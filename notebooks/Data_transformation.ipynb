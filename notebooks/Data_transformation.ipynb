{
 "cells": [
  {
   "cell_type": "code",
   "execution_count": 32,
   "metadata": {},
   "outputs": [],
   "source": [
    "import numpy as np\n",
    "import pandas as pd\n",
    "from numpy import mean\n",
    "from numpy import std\n",
    "from pandas import read_csv\n",
    "from matplotlib import pyplot\n",
    "from sklearn.preprocessing import LabelEncoder\n",
    "from sklearn.preprocessing import OneHotEncoder\n",
    "from sklearn.preprocessing import MinMaxScaler\n",
    "from sklearn.pipeline import Pipeline\n",
    "from sklearn.compose import ColumnTransformer\n",
    "from sklearn.model_selection import cross_val_score\n",
    "from sklearn.model_selection import RepeatedStratifiedKFold\n",
    "from sklearn.naive_bayes import GaussianNB\n",
    "from sklearn.gaussian_process import GaussianProcessClassifier\n",
    "from sklearn.svm import SVC\n",
    "from sklearn.model_selection import train_test_split\n",
    "from sklearn.preprocessing import MinMaxScaler\n",
    "from sklearn.preprocessing import StandardScaler\n",
    "from sklearn.preprocessing import Normalizer\n",
    "import matplotlib as mpl\n",
    "from matplotlib import pyplot as plt\n",
    "from matplotlib import cm\n",
    "from sklearn.ensemble import RandomForestClassifier\n",
    "from sklearn.feature_selection import RFECV\n",
    "from sklearn.model_selection import StratifiedKFold\n"
   ]
  },
  {
   "cell_type": "code",
   "execution_count": 33,
   "metadata": {},
   "outputs": [
    {
     "data": {
      "text/plain": [
       "((132, 9), (132,))"
      ]
     },
     "execution_count": 33,
     "metadata": {},
     "output_type": "execute_result"
    }
   ],
   "source": [
    "full_path='../data/processed/mean_impute_all_features.csv'\n",
    "# def data (full_path):\n",
    "dataframe = read_csv(full_path)\n",
    "dataframe.reset_index(drop=True, inplace=True)\n",
    "X, y= dataframe.drop('gestational dm', axis=1), dataframe['gestational dm'] \n",
    "seed=10\n",
    "    #Splitting X,y into Train & Test\n",
    "#     X_train, X_test, y_train, y_test = train_test_split(X, y, test_size=0.20, random_state=0, stratify=y)\n",
    "X.shape, y.shape"
   ]
  },
  {
   "cell_type": "code",
   "execution_count": 34,
   "metadata": {},
   "outputs": [],
   "source": [
    "#Functions:\n",
    "# Check if the labels are well shuffled in train and test set, to avoid imbalanced data\n",
    "def bin_count(y_train, y_test):\n",
    "    \"\"\"\n",
    "    Function to check class distribution in train and test set\n",
    "    Arguments:y_train and y_test\n",
    "    Returns: Prints bincount per class for each set\n",
    "    \"\"\"\n",
    "    a,b=np.bincount(y_train)\n",
    "    print(f\"Percentage of data distribution in the train set:\")\n",
    "    print(round(a/(a+b)*100,2))\n",
    "    print(round(b/(a+b)*100,2))\n",
    "    print(\"-------------------\")\n",
    "    x,y=np.bincount(y_test)\n",
    "    print(f\"Percentage of data distribution in the test set:\")\n",
    "    print(round(x/(x+y)*100,2))\n",
    "    print(round(y/(x+y)*100,2))\n",
    "\n",
    "#Confusion matrix\n",
    "from sklearn.metrics import confusion_matrix\n",
    "import seaborn as sns\n",
    "def conf_matrix(y_test, y_pred):\n",
    "    \"\"\"Function to generate confusion matrix and generate report\n",
    "       Arg: true labels and predicted labels array\n",
    "    \"\"\"\n",
    "    cm = confusion_matrix(y_test, y_pred)\n",
    "    f, ax = plt.subplots(figsize=(5,5))\n",
    "    sns.heatmap(cm,fmt=\".0f\", annot=True,linewidths=0.2, linecolor=\"purple\", ax=ax)\n",
    "    plt.xlabel(\"Predicted\")\n",
    "    plt.ylabel(\"Grand Truth\")\n",
    "    plt.show()\n",
    "    TN = cm[0,0]\n",
    "    TP = cm[1,1]\n",
    "    FN = cm[1,0]\n",
    "    FP = cm[0,1]\n",
    "    Precision = TP/(TP+FP)\n",
    "    Recall = TP/(TP+FN)\n",
    "    F1_Score = 2*(Recall * Precision) / (Recall + Precision)\n",
    "    return pd.DataFrame([[Precision, Recall, F1_Score]],columns=[\"Precision\", \"Recall\", \"F1 Score\"], index=[\"Results\"])\n",
    "\n",
    "#Train random forst model\n",
    "from sklearn.metrics import classification_report, confusion_matrix\n",
    "from sklearn import metrics\n",
    "def randomForest(X_train, X_test, y_train, y_test):\n",
    "    \"\"\"\n",
    "    Function to train model\n",
    "    Argumens: train and test data\n",
    "    Returns: Score, classification report, model\n",
    "    \"\"\"\n",
    "    rf = RandomForestClassifier(random_state=seed)\n",
    "    rf.fit(X_train, y_train)\n",
    "    y_pred = rf.predict(X_test)\n",
    "    score = metrics.accuracy_score(y_test, y_pred) * 100\n",
    "    report = classification_report(y_test, y_pred)\n",
    "    return score, report, rf, y_pred"
   ]
  },
  {
   "cell_type": "code",
   "execution_count": 15,
   "metadata": {},
   "outputs": [
    {
     "data": {
      "text/plain": [
       "Index(['age (years)', 'ethnicity', 'mean diastolic bp (mmhg)',\n",
       "       'mean systolic bp (mmhg)', 'central armellini fat (mm)',\n",
       "       'current gestational age', 'pregnancies (number)',\n",
       "       'first fasting glucose (mg/dl)', 'bmi pregestational (kg/m)'],\n",
       "      dtype='object')"
      ]
     },
     "execution_count": 15,
     "metadata": {},
     "output_type": "execute_result"
    }
   ],
   "source": [
    "correlated_features = set()\n",
    "correlation_matrix = X.corr()\n",
    "\n",
    "for i in range(len(correlation_matrix.columns)):\n",
    "    for j in range(i):\n",
    "        if abs(correlation_matrix.iloc[i, j]) > 0.7:\n",
    "            colname = correlation_matrix.columns[i]\n",
    "            correlated_features.add(colname)\n",
    "correlated_features\n",
    "\n",
    "X.columns\n"
   ]
  },
  {
   "cell_type": "code",
   "execution_count": 85,
   "metadata": {},
   "outputs": [
    {
     "data": {
      "text/html": [
       "<div>\n",
       "<style scoped>\n",
       "    .dataframe tbody tr th:only-of-type {\n",
       "        vertical-align: middle;\n",
       "    }\n",
       "\n",
       "    .dataframe tbody tr th {\n",
       "        vertical-align: top;\n",
       "    }\n",
       "\n",
       "    .dataframe thead th {\n",
       "        text-align: right;\n",
       "    }\n",
       "</style>\n",
       "<table border=\"1\" class=\"dataframe\">\n",
       "  <thead>\n",
       "    <tr style=\"text-align: right;\">\n",
       "      <th></th>\n",
       "      <th>age (years)</th>\n",
       "      <th>ethnicity</th>\n",
       "      <th>mean diastolic bp (mmhg)</th>\n",
       "      <th>mean systolic bp (mmhg)</th>\n",
       "      <th>central armellini fat (mm)</th>\n",
       "      <th>current gestational age</th>\n",
       "      <th>pregnancies (number)</th>\n",
       "      <th>first fasting glucose (mg/dl)</th>\n",
       "      <th>bmi pregestational (kg/m)</th>\n",
       "    </tr>\n",
       "  </thead>\n",
       "  <tbody>\n",
       "    <tr>\n",
       "      <th>0</th>\n",
       "      <td>0.178571</td>\n",
       "      <td>0.0</td>\n",
       "      <td>0.448980</td>\n",
       "      <td>0.454545</td>\n",
       "      <td>0.188494</td>\n",
       "      <td>0.424460</td>\n",
       "      <td>0.000</td>\n",
       "      <td>0.392593</td>\n",
       "      <td>0.439697</td>\n",
       "    </tr>\n",
       "    <tr>\n",
       "      <th>1</th>\n",
       "      <td>0.464286</td>\n",
       "      <td>0.0</td>\n",
       "      <td>0.489796</td>\n",
       "      <td>0.285714</td>\n",
       "      <td>0.372093</td>\n",
       "      <td>0.381295</td>\n",
       "      <td>0.000</td>\n",
       "      <td>0.296296</td>\n",
       "      <td>0.143869</td>\n",
       "    </tr>\n",
       "    <tr>\n",
       "      <th>2</th>\n",
       "      <td>0.214286</td>\n",
       "      <td>1.0</td>\n",
       "      <td>0.387755</td>\n",
       "      <td>0.337662</td>\n",
       "      <td>0.351285</td>\n",
       "      <td>0.460432</td>\n",
       "      <td>0.000</td>\n",
       "      <td>0.481481</td>\n",
       "      <td>0.141593</td>\n",
       "    </tr>\n",
       "    <tr>\n",
       "      <th>3</th>\n",
       "      <td>0.357143</td>\n",
       "      <td>0.0</td>\n",
       "      <td>0.836735</td>\n",
       "      <td>1.000000</td>\n",
       "      <td>0.329253</td>\n",
       "      <td>0.719424</td>\n",
       "      <td>0.375</td>\n",
       "      <td>0.392593</td>\n",
       "      <td>1.000000</td>\n",
       "    </tr>\n",
       "    <tr>\n",
       "      <th>4</th>\n",
       "      <td>0.642857</td>\n",
       "      <td>1.0</td>\n",
       "      <td>0.561224</td>\n",
       "      <td>0.610390</td>\n",
       "      <td>0.674419</td>\n",
       "      <td>0.359712</td>\n",
       "      <td>0.125</td>\n",
       "      <td>0.481481</td>\n",
       "      <td>0.380278</td>\n",
       "    </tr>\n",
       "  </tbody>\n",
       "</table>\n",
       "</div>"
      ],
      "text/plain": [
       "   age (years)  ethnicity  mean diastolic bp (mmhg)  mean systolic bp (mmhg)  \\\n",
       "0     0.178571        0.0                  0.448980                 0.454545   \n",
       "1     0.464286        0.0                  0.489796                 0.285714   \n",
       "2     0.214286        1.0                  0.387755                 0.337662   \n",
       "3     0.357143        0.0                  0.836735                 1.000000   \n",
       "4     0.642857        1.0                  0.561224                 0.610390   \n",
       "\n",
       "   central armellini fat (mm)  current gestational age  pregnancies (number)  \\\n",
       "0                    0.188494                 0.424460                 0.000   \n",
       "1                    0.372093                 0.381295                 0.000   \n",
       "2                    0.351285                 0.460432                 0.000   \n",
       "3                    0.329253                 0.719424                 0.375   \n",
       "4                    0.674419                 0.359712                 0.125   \n",
       "\n",
       "   first fasting glucose (mg/dl)  bmi pregestational (kg/m)  \n",
       "0                       0.392593                   0.439697  \n",
       "1                       0.296296                   0.143869  \n",
       "2                       0.481481                   0.141593  \n",
       "3                       0.392593                   1.000000  \n",
       "4                       0.481481                   0.380278  "
      ]
     },
     "execution_count": 85,
     "metadata": {},
     "output_type": "execute_result"
    }
   ],
   "source": [
    "# distributions = [\n",
    "#     ('Data after standard scaling',\n",
    "#         StandardScaler().fit_transform(X)),\n",
    "#     ('Data after min-max scaling',\n",
    "#         MinMaxScaler().fit_transform(X)),\n",
    "#     ('Data after sample-wise L2 normalizing',\n",
    "#         Normalizer().fit_transform(X)),\n",
    "# ]\n",
    "#Scaling continuous features using StandardScaler\n",
    "from sklearn.preprocessing import StandardScaler\n",
    "minMaxScaler = MinMaxScaler()\n",
    "columns_to_scale = ['age (years)', 'mean diastolic bp (mmhg)', 'mean systolic bp (mmhg)', 'central armellini fat (mm)', 'current gestational age','pregnancies (number)', 'first fasting glucose (mg/dl)', 'bmi pregestational (kg/m)' ]\n",
    "X[columns_to_scale] = minMaxScaler.fit_transform(X[columns_to_scale])\n",
    "X.head()\n",
    "# s=StandardScaler().fit_transform(X)\n",
    "# m=MinMaxScaler().fit_transform(X)\n",
    "# n=Normalizer().fit_transform(X)\n",
    "# np.mean(s),np.std(s)"
   ]
  },
  {
   "cell_type": "markdown",
   "metadata": {},
   "source": [
    "## Feature Selection"
   ]
  },
  {
   "cell_type": "code",
   "execution_count": 19,
   "metadata": {},
   "outputs": [
    {
     "name": "stdout",
     "output_type": "stream",
     "text": [
      "Optimal number of features : 8\n"
     ]
    },
    {
     "data": {
      "image/png": "[encoded data removed]",
      "text/plain": [
       "<Figure size 432x288 with 1 Axes>"
      ]
     },
     "metadata": {
      "needs_background": "light"
     },
     "output_type": "display_data"
    },
    {
     "data": {
      "text/plain": [
       "<Figure size 432x288 with 0 Axes>"
      ]
     },
     "metadata": {},
     "output_type": "display_data"
    }
   ],
   "source": [
    "#RFECV using LR estimator\n",
    "\n",
    "rfc = RandomForestClassifier(random_state=101)\n",
    "rfecv = RFECV(estimator=rfc, step=1, cv=StratifiedKFold(5), scoring='accuracy')\n",
    "selector=rfecv.fit(X, y)\n",
    "selector\n",
    "print(\"Optimal number of features : %d\" % selector.n_features_)\n",
    "\n",
    "plt.figure()\n",
    "plt.title('RFE CV score vs Number of Features')\n",
    "plt.xlabel(\"Number of features selected\")\n",
    "plt.ylabel(\"Cross validation score (nb of correct classifications)\")\n",
    "plt.plot(range(1, len(rfecv.grid_scores_) + 1), rfecv.grid_scores_)\n",
    "plt.show()\n",
    "plt.savefig(\"Feature_selection\")"
   ]
  },
  {
   "cell_type": "code",
   "execution_count": 20,
   "metadata": {},
   "outputs": [
    {
     "name": "stdout",
     "output_type": "stream",
     "text": [
      "['age (years)', 'mean diastolic bp (mmhg)', 'mean systolic bp (mmhg)', 'central armellini fat (mm)', 'current gestational age', 'pregnancies (number)', 'first fasting glucose (mg/dl)', 'bmi pregestational (kg/m)']\n"
     ]
    }
   ],
   "source": [
    "feature_names=X.columns\n",
    "feature_importance = list(zip(feature_names, rfecv.support_))\n",
    "new_features = []\n",
    "for key,value in enumerate(feature_importance):\n",
    "    if(value[1]) == True:\n",
    "        new_features.append(value[0])\n",
    "print(new_features)"
   ]
  },
  {
   "cell_type": "code",
   "execution_count": 150,
   "metadata": {},
   "outputs": [
    {
     "name": "stdout",
     "output_type": "stream",
     "text": [
      "Percentage of data distribution in the train set:\n",
      "86.67\n",
      "13.33\n",
      "-------------------\n",
      "Percentage of data distribution in the test set:\n",
      "85.19\n",
      "14.81\n"
     ]
    }
   ],
   "source": [
    "#First drop only the feature suggested\n",
    "features=X.drop(['ethnicity'], axis=1)\n",
    "features.head()\n",
    "\n",
    "#Splitting X,y into Train & Test\n",
    "X_train, X_test, y_train, y_test = train_test_split(features, y, test_size=0.20, random_state=seed, stratify=y)\n",
    "bin_count(y_train, y_test)"
   ]
  },
  {
   "cell_type": "code",
   "execution_count": 29,
   "metadata": {},
   "outputs": [
    {
     "data": {
      "image/png": "[encoded data removed]",
      "text/plain": [
       "<Figure size 360x360 with 2 Axes>"
      ]
     },
     "metadata": {
      "needs_background": "light"
     },
     "output_type": "display_data"
    },
    {
     "data": {
      "text/html": [
       "<div>\n",
       "<style scoped>\n",
       "    .dataframe tbody tr th:only-of-type {\n",
       "        vertical-align: middle;\n",
       "    }\n",
       "\n",
       "    .dataframe tbody tr th {\n",
       "        vertical-align: top;\n",
       "    }\n",
       "\n",
       "    .dataframe thead th {\n",
       "        text-align: right;\n",
       "    }\n",
       "</style>\n",
       "<table border=\"1\" class=\"dataframe\">\n",
       "  <thead>\n",
       "    <tr style=\"text-align: right;\">\n",
       "      <th></th>\n",
       "      <th>Precision</th>\n",
       "      <th>Recall</th>\n",
       "      <th>F1 Score</th>\n",
       "    </tr>\n",
       "  </thead>\n",
       "  <tbody>\n",
       "    <tr>\n",
       "      <th>Results</th>\n",
       "      <td>0.5</td>\n",
       "      <td>0.25</td>\n",
       "      <td>0.333333</td>\n",
       "    </tr>\n",
       "  </tbody>\n",
       "</table>\n",
       "</div>"
      ],
      "text/plain": [
       "         Precision  Recall  F1 Score\n",
       "Results        0.5    0.25  0.333333"
      ]
     },
     "execution_count": 29,
     "metadata": {},
     "output_type": "execute_result"
    }
   ],
   "source": [
    "#Train default model\n",
    "score, report, rf, y_pred =randomForest(X_train, X_test, y_train, y_test)\n",
    "conf_matrix(y_test,y_pred)"
   ]
  },
  {
   "cell_type": "code",
   "execution_count": 92,
   "metadata": {},
   "outputs": [
    {
     "data": {
      "text/plain": [
       "((105, 6), (105,))"
      ]
     },
     "execution_count": 92,
     "metadata": {},
     "output_type": "execute_result"
    }
   ],
   "source": [
    "#Redo by dropping correlated features:\n",
    "data=X.drop(['ethnicity', 'central armellini fat (mm)', 'mean diastolic bp (mmhg)'], axis=1)\n",
    "data.tail()\n",
    "#Splitting X,y into Train & Test\n",
    "X_train, X_test, y_train, y_test = train_test_split(data, y, test_size=0.20, random_state=seed, stratify=y)\n",
    "X_train.shape, y_train.shape"
   ]
  },
  {
   "cell_type": "code",
   "execution_count": 31,
   "metadata": {},
   "outputs": [
    {
     "data": {
      "image/png": "[encoded data removed]",
      "text/plain": [
       "<Figure size 360x360 with 2 Axes>"
      ]
     },
     "metadata": {
      "needs_background": "light"
     },
     "output_type": "display_data"
    },
    {
     "data": {
      "text/html": [
       "<div>\n",
       "<style scoped>\n",
       "    .dataframe tbody tr th:only-of-type {\n",
       "        vertical-align: middle;\n",
       "    }\n",
       "\n",
       "    .dataframe tbody tr th {\n",
       "        vertical-align: top;\n",
       "    }\n",
       "\n",
       "    .dataframe thead th {\n",
       "        text-align: right;\n",
       "    }\n",
       "</style>\n",
       "<table border=\"1\" class=\"dataframe\">\n",
       "  <thead>\n",
       "    <tr style=\"text-align: right;\">\n",
       "      <th></th>\n",
       "      <th>Precision</th>\n",
       "      <th>Recall</th>\n",
       "      <th>F1 Score</th>\n",
       "    </tr>\n",
       "  </thead>\n",
       "  <tbody>\n",
       "    <tr>\n",
       "      <th>Results</th>\n",
       "      <td>0.333333</td>\n",
       "      <td>0.25</td>\n",
       "      <td>0.285714</td>\n",
       "    </tr>\n",
       "  </tbody>\n",
       "</table>\n",
       "</div>"
      ],
      "text/plain": [
       "         Precision  Recall  F1 Score\n",
       "Results   0.333333    0.25  0.285714"
      ]
     },
     "execution_count": 31,
     "metadata": {},
     "output_type": "execute_result"
    }
   ],
   "source": [
    "score, report, rf, y_pred =randomForest(X_train, X_test, y_train, y_test)\n",
    "conf_matrix(y_test,y_pred)"
   ]
  },
  {
   "cell_type": "code",
   "execution_count": 94,
   "metadata": {},
   "outputs": [
    {
     "data": {
      "text/plain": [
       "((105, 7), (105,))"
      ]
     },
     "execution_count": 94,
     "metadata": {},
     "output_type": "execute_result"
    }
   ],
   "source": [
    "#Repeat the up, without dropping ethnicity:\n",
    "#Redo by dropping correlated features:\n",
    "data=X.drop(['central armellini fat (mm)', 'mean diastolic bp (mmhg)'], axis=1)\n",
    "data.tail()\n",
    "#Splitting X,y into Train & Test\n",
    "X_train, X_test, y_train, y_test = train_test_split(data, y, test_size=0.20, random_state=seed, stratify=y)\n",
    "X_train.shape, y_train.shape"
   ]
  },
  {
   "cell_type": "code",
   "execution_count": 96,
   "metadata": {},
   "outputs": [
    {
     "data": {
      "text/plain": [
       "((105, 7), (105,))"
      ]
     },
     "execution_count": 96,
     "metadata": {},
     "output_type": "execute_result"
    }
   ],
   "source": [
    "#Repeat the up, without dropping ethnicity:\n",
    "#Redo by dropping correlated features:\n",
    "data=X.drop(['ethnicity', 'mean diastolic bp (mmhg)'], axis=1)\n",
    "data.tail()\n",
    "#Splitting X,y into Train & Test\n",
    "X_train, X_test, y_train, y_test = train_test_split(data, y, test_size=0.20, random_state=seed, stratify=y)\n",
    "X_train.shape, y_train.shape"
   ]
  },
  {
   "cell_type": "code",
   "execution_count": 100,
   "metadata": {},
   "outputs": [
    {
     "data": {
      "text/plain": [
       "((105, 7), (105,))"
      ]
     },
     "execution_count": 100,
     "metadata": {},
     "output_type": "execute_result"
    }
   ],
   "source": [
    "#Lets try FE a new column (SysP-DiasP),\n",
    "X[\"BP\"]=X['mean systolic bp (mmhg)'] - X['mean diastolic bp (mmhg)']\n",
    "data=X.drop(['ethnicity', 'mean diastolic bp (mmhg)', 'mean systolic bp (mmhg)'], axis=1)\n",
    "data.tail()\n",
    "#Splitting X,y into Train & Test\n",
    "X_train, X_test, y_train, y_test = train_test_split(data, y, test_size=0.20, random_state=seed, stratify=y)\n",
    "X_train.shape, y_train.shape"
   ]
  },
  {
   "cell_type": "code",
   "execution_count": 33,
   "metadata": {},
   "outputs": [
    {
     "data": {
      "image/png": "[encoded data removed]",
      "text/plain": [
       "<Figure size 360x360 with 2 Axes>"
      ]
     },
     "metadata": {
      "needs_background": "light"
     },
     "output_type": "display_data"
    },
    {
     "data": {
      "text/html": [
       "<div>\n",
       "<style scoped>\n",
       "    .dataframe tbody tr th:only-of-type {\n",
       "        vertical-align: middle;\n",
       "    }\n",
       "\n",
       "    .dataframe tbody tr th {\n",
       "        vertical-align: top;\n",
       "    }\n",
       "\n",
       "    .dataframe thead th {\n",
       "        text-align: right;\n",
       "    }\n",
       "</style>\n",
       "<table border=\"1\" class=\"dataframe\">\n",
       "  <thead>\n",
       "    <tr style=\"text-align: right;\">\n",
       "      <th></th>\n",
       "      <th>Precision</th>\n",
       "      <th>Recall</th>\n",
       "      <th>F1 Score</th>\n",
       "    </tr>\n",
       "  </thead>\n",
       "  <tbody>\n",
       "    <tr>\n",
       "      <th>Results</th>\n",
       "      <td>0.5</td>\n",
       "      <td>0.25</td>\n",
       "      <td>0.333333</td>\n",
       "    </tr>\n",
       "  </tbody>\n",
       "</table>\n",
       "</div>"
      ],
      "text/plain": [
       "         Precision  Recall  F1 Score\n",
       "Results        0.5    0.25  0.333333"
      ]
     },
     "execution_count": 33,
     "metadata": {},
     "output_type": "execute_result"
    }
   ],
   "source": [
    "score, report, rf, y_pred =randomForest(X_train, X_test, y_train, y_test)\n",
    "conf_matrix(y_test,y_pred)"
   ]
  },
  {
   "cell_type": "code",
   "execution_count": 34,
   "metadata": {},
   "outputs": [
    {
     "data": {
      "text/plain": [
       "85.18518518518519"
      ]
     },
     "execution_count": 34,
     "metadata": {},
     "output_type": "execute_result"
    }
   ],
   "source": [
    "score"
   ]
  },
  {
   "cell_type": "code",
   "execution_count": 59,
   "metadata": {},
   "outputs": [
    {
     "name": "stdout",
     "output_type": "stream",
     "text": [
      "  Name     Score\n",
      "0  GNB  0.851852\n",
      "1   RF  0.851852\n",
      "2   GB  0.814815\n"
     ]
    }
   ],
   "source": [
    "from sklearn.naive_bayes import GaussianNB\n",
    "from sklearn.ensemble import RandomForestClassifier\n",
    "from sklearn.ensemble import GradientBoostingClassifier\n",
    "from sklearn.metrics import accuracy_score\n",
    "\n",
    "models = []\n",
    "models.append(('GNB', GaussianNB()))\n",
    "models.append(('RF', RandomForestClassifier(random_state=seed)))\n",
    "models.append(('GB', GradientBoostingClassifier(random_state=seed)))\n",
    "\n",
    "#Test accuracy and score\n",
    "random_state=10\n",
    "names = []\n",
    "scores = []\n",
    "y_pred_list=[]\n",
    "for name, model in models:\n",
    "    model.fit(X_train, y_train)\n",
    "    y_pred=model.predict(X_test)\n",
    "    scores.append(accuracy_score(y_test, y_pred))\n",
    "    names.append(name)\n",
    "tr_split = pd.DataFrame({'Name': names, 'Score': scores})\n",
    "print(tr_split)"
   ]
  },
  {
   "cell_type": "code",
   "execution_count": 103,
   "metadata": {},
   "outputs": [
    {
     "data": {
      "image/png": "[encoded data removed]",
      "text/plain": [
       "<Figure size 360x360 with 2 Axes>"
      ]
     },
     "metadata": {
      "needs_background": "light"
     },
     "output_type": "display_data"
    },
    {
     "data": {
      "text/html": [
       "<div>\n",
       "<style scoped>\n",
       "    .dataframe tbody tr th:only-of-type {\n",
       "        vertical-align: middle;\n",
       "    }\n",
       "\n",
       "    .dataframe tbody tr th {\n",
       "        vertical-align: top;\n",
       "    }\n",
       "\n",
       "    .dataframe thead th {\n",
       "        text-align: right;\n",
       "    }\n",
       "</style>\n",
       "<table border=\"1\" class=\"dataframe\">\n",
       "  <thead>\n",
       "    <tr style=\"text-align: right;\">\n",
       "      <th></th>\n",
       "      <th>Precision</th>\n",
       "      <th>Recall</th>\n",
       "      <th>F1 Score</th>\n",
       "    </tr>\n",
       "  </thead>\n",
       "  <tbody>\n",
       "    <tr>\n",
       "      <th>Results</th>\n",
       "      <td>0.5</td>\n",
       "      <td>0.25</td>\n",
       "      <td>0.333333</td>\n",
       "    </tr>\n",
       "  </tbody>\n",
       "</table>\n",
       "</div>"
      ],
      "text/plain": [
       "         Precision  Recall  F1 Score\n",
       "Results        0.5    0.25  0.333333"
      ]
     },
     "execution_count": 103,
     "metadata": {},
     "output_type": "execute_result"
    }
   ],
   "source": [
    "from sklearn.linear_model import LogisticRegression\n",
    "model=GaussianNB().fit(X_train, y_train)\n",
    "y_pred=model.predict(X_test)\n",
    "accuracy_score(y_test, y_pred)\n",
    "conf_matrix(y_test,y_pred)"
   ]
  },
  {
   "cell_type": "markdown",
   "metadata": {},
   "source": [
    "Best results for GNB, by dropping ethnicity and ethn+mean diastolic pressure gives similar result.\n",
    "Scaling doesn't affect the result."
   ]
  },
  {
   "cell_type": "code",
   "execution_count": 104,
   "metadata": {},
   "outputs": [
    {
     "data": {
      "text/plain": [
       "(22, 1, 3, 1)"
      ]
     },
     "execution_count": 104,
     "metadata": {},
     "output_type": "execute_result"
    }
   ],
   "source": [
    "tn, fp, fn, tp = confusion_matrix(y_test, y_pred).ravel()\n",
    "(tn, fp, fn, tp)"
   ]
  },
  {
   "cell_type": "markdown",
   "metadata": {},
   "source": [
    "## Create balance dataset"
   ]
  },
  {
   "cell_type": "code",
   "execution_count": 35,
   "metadata": {},
   "outputs": [
    {
     "name": "stdout",
     "output_type": "stream",
     "text": [
      "Oversampling value counts: 1    114\n",
      "0    114\n",
      "Name: gestational dm, dtype: int64\n"
     ]
    }
   ],
   "source": [
    "from sklearn.utils import resample\n",
    "# concatenate our training data back together as resampling should be done before splitting of target and feature of training data\n",
    "# X = pd.concat([X_train, y_train], axis=1)\n",
    "# X.head()\n",
    "\n",
    "# separate minority and majority classes\n",
    "majority = dataframe[dataframe['gestational dm']==0]\n",
    "minority = dataframe[dataframe['gestational dm']==1]\n",
    "\n",
    "# upsample minority\n",
    "upsampled = resample(minority,\n",
    "                          replace=True, # sample with replacement\n",
    "                          n_samples=len(majority), # match number in majority class\n",
    "                          random_state=seed) # reproducible results\n",
    "\n",
    "# combine majority and upsampled minority\n",
    "upsampled_data = pd.concat([majority, upsampled])\n",
    "\n",
    "\n",
    "# checking counts after resampling from both the techniques\n",
    "print(f\"Oversampling value counts: {upsampled_data['gestational dm'].value_counts()}\")\n"
   ]
  },
  {
   "cell_type": "code",
   "execution_count": 36,
   "metadata": {},
   "outputs": [
    {
     "data": {
      "text/plain": [
       "((182, 6), (182,))"
      ]
     },
     "execution_count": 36,
     "metadata": {},
     "output_type": "execute_result"
    }
   ],
   "source": [
    "# trying logistic regression again with the oversampled balanced dataset\n",
    "# dataset=upsampled_data.drop(['level_0', 'index'], axis=1)\n",
    "# dataset.tail()\n",
    "y = upsampled_data['gestational dm']\n",
    "X = upsampled_data.drop(['gestational dm','ethnicity', 'central armellini fat (mm)', 'mean diastolic bp (mmhg)'], axis=1)\n",
    "X.shape, y.shape\n",
    "# # y\n",
    "X_train, X_test, y_train, y_test = train_test_split(X, y, test_size=0.20, random_state=seed, stratify=y)\n",
    "X_train.shape, y_train.shape\n",
    "\n",
    "# model=GaussianNB().fit(X_train, y_train)\n",
    "# y_pred=model.predict(X_test)\n",
    "# score=accuracy_score(y_test, y_pred)\n",
    "# conf_matrix(y_test,y_pred)"
   ]
  },
  {
   "cell_type": "code",
   "execution_count": 173,
   "metadata": {},
   "outputs": [
    {
     "data": {
      "text/html": [
       "<div>\n",
       "<style scoped>\n",
       "    .dataframe tbody tr th:only-of-type {\n",
       "        vertical-align: middle;\n",
       "    }\n",
       "\n",
       "    .dataframe tbody tr th {\n",
       "        vertical-align: top;\n",
       "    }\n",
       "\n",
       "    .dataframe thead th {\n",
       "        text-align: right;\n",
       "    }\n",
       "</style>\n",
       "<table border=\"1\" class=\"dataframe\">\n",
       "  <thead>\n",
       "    <tr style=\"text-align: right;\">\n",
       "      <th></th>\n",
       "      <th>age (years)</th>\n",
       "      <th>mean systolic bp (mmhg)</th>\n",
       "      <th>current gestational age</th>\n",
       "      <th>pregnancies (number)</th>\n",
       "      <th>first fasting glucose (mg/dl)</th>\n",
       "      <th>bmi pregestational (kg/m)</th>\n",
       "    </tr>\n",
       "  </thead>\n",
       "  <tbody>\n",
       "    <tr>\n",
       "      <th>80</th>\n",
       "      <td>30</td>\n",
       "      <td>113.0</td>\n",
       "      <td>16.2</td>\n",
       "      <td>3.0</td>\n",
       "      <td>78.0</td>\n",
       "      <td>28.20</td>\n",
       "    </tr>\n",
       "    <tr>\n",
       "      <th>90</th>\n",
       "      <td>29</td>\n",
       "      <td>114.5</td>\n",
       "      <td>7.3</td>\n",
       "      <td>2.0</td>\n",
       "      <td>81.2</td>\n",
       "      <td>23.33</td>\n",
       "    </tr>\n",
       "    <tr>\n",
       "      <th>99</th>\n",
       "      <td>30</td>\n",
       "      <td>125.5</td>\n",
       "      <td>13.6</td>\n",
       "      <td>1.0</td>\n",
       "      <td>66.0</td>\n",
       "      <td>19.44</td>\n",
       "    </tr>\n",
       "    <tr>\n",
       "      <th>114</th>\n",
       "      <td>34</td>\n",
       "      <td>115.0</td>\n",
       "      <td>17.4</td>\n",
       "      <td>8.0</td>\n",
       "      <td>81.2</td>\n",
       "      <td>37.16</td>\n",
       "    </tr>\n",
       "    <tr>\n",
       "      <th>76</th>\n",
       "      <td>20</td>\n",
       "      <td>113.5</td>\n",
       "      <td>11.4</td>\n",
       "      <td>1.0</td>\n",
       "      <td>109.0</td>\n",
       "      <td>29.34</td>\n",
       "    </tr>\n",
       "  </tbody>\n",
       "</table>\n",
       "</div>"
      ],
      "text/plain": [
       "     age (years)  mean systolic bp (mmhg)  current gestational age  \\\n",
       "80            30                    113.0                     16.2   \n",
       "90            29                    114.5                      7.3   \n",
       "99            30                    125.5                     13.6   \n",
       "114           34                    115.0                     17.4   \n",
       "76            20                    113.5                     11.4   \n",
       "\n",
       "     pregnancies (number)  first fasting glucose (mg/dl)  \\\n",
       "80                    3.0                           78.0   \n",
       "90                    2.0                           81.2   \n",
       "99                    1.0                           66.0   \n",
       "114                   8.0                           81.2   \n",
       "76                    1.0                          109.0   \n",
       "\n",
       "     bmi pregestational (kg/m)  \n",
       "80                       28.20  \n",
       "90                       23.33  \n",
       "99                       19.44  \n",
       "114                      37.16  \n",
       "76                       29.34  "
      ]
     },
     "execution_count": 173,
     "metadata": {},
     "output_type": "execute_result"
    }
   ],
   "source": [
    "X_train.head()"
   ]
  },
  {
   "cell_type": "code",
   "execution_count": 60,
   "metadata": {},
   "outputs": [
    {
     "data": {
      "image/png": "[encoded data removed]",
      "text/plain": [
       "<Figure size 360x360 with 2 Axes>"
      ]
     },
     "metadata": {
      "needs_background": "light"
     },
     "output_type": "display_data"
    },
    {
     "data": {
      "image/png": "[encoded data removed]",
      "text/plain": [
       "<Figure size 360x360 with 2 Axes>"
      ]
     },
     "metadata": {
      "needs_background": "light"
     },
     "output_type": "display_data"
    },
    {
     "data": {
      "image/png": "[encoded data removed]",
      "text/plain": [
       "<Figure size 360x360 with 2 Axes>"
      ]
     },
     "metadata": {
      "needs_background": "light"
     },
     "output_type": "display_data"
    },
    {
     "data": {
      "text/plain": [
       "(         Precision  Recall  F1 Score\n",
       " Results   0.884615     1.0  0.938776,\n",
       "          Precision  Recall  F1 Score\n",
       " Results   0.884615     1.0  0.938776,\n",
       "          Precision   Recall  F1 Score\n",
       " Results   0.809524  0.73913  0.772727)"
      ]
     },
     "execution_count": 60,
     "metadata": {},
     "output_type": "execute_result"
    }
   ],
   "source": [
    "# #Balance class weight drop ethnicity:\n",
    "from sklearn.naive_bayes import GaussianNB\n",
    "from sklearn.ensemble import RandomForestClassifier\n",
    "from sklearn.ensemble import GradientBoostingClassifier\n",
    "from sklearn.metrics import accuracy_score\n",
    "\n",
    "rf_model=RandomForestClassifier(random_state=seed).fit(X_train, y_train)\n",
    "gb_model=RandomForestClassifier(random_state=seed).fit(X_train, y_train)\n",
    "GradientBoostingClassifier(random_state=seed)\n",
    "gnb_model=GaussianNB().fit(X_train, y_train)\n",
    "rf_pred=rf_model.predict(X_test)\n",
    "gb_pred=gb_model.predict(X_test)\n",
    "gnb_pred=gnb_model.predict(X_test)\n",
    "score=accuracy_score(y_test, rf_pred)\n",
    "conf_matrix(y_test,rf_pred),conf_matrix(y_test,gb_pred),conf_matrix(y_test,gnb_pred)\n",
    "# X_train.shape"
   ]
  },
  {
   "cell_type": "code",
   "execution_count": 38,
   "metadata": {},
   "outputs": [
    {
     "data": {
      "text/plain": [
       "(array([[0.45, 0.55]]),\n",
       " array([[0.45, 0.55]]),\n",
       " array([[0.10806874, 0.89193126]]))"
      ]
     },
     "execution_count": 38,
     "metadata": {},
     "output_type": "execute_result"
    }
   ],
   "source": [
    "#Test a sample:\n",
    "Normal=[20, 113, 16.2, 3, 80, 29]\n",
    "Between=[28, 120, 16.2, 4, 83, 31]\n",
    "Pos=[33, 137, 18, 5, 86, 35.8]\n",
    "B=np.array(Pos)\n",
    "# B\n",
    "C=B.reshape(1, -1)\n",
    "rf_model.predict_proba(C), gb_model.predict_proba(C), gnb_model.predict_proba(C)"
   ]
  },
  {
   "cell_type": "code",
   "execution_count": 39,
   "metadata": {},
   "outputs": [
    {
     "data": {
      "text/plain": [
       "RandomForestClassifier(bootstrap=True, ccp_alpha=0.0, class_weight=None,\n",
       "                       criterion='gini', max_depth=None, max_features='auto',\n",
       "                       max_leaf_nodes=None, max_samples=None,\n",
       "                       min_impurity_decrease=0.0, min_impurity_split=None,\n",
       "                       min_samples_leaf=1, min_samples_split=2,\n",
       "                       min_weight_fraction_leaf=0.0, n_estimators=100,\n",
       "                       n_jobs=None, oob_score=False, random_state=10, verbose=0,\n",
       "                       warm_start=False)"
      ]
     },
     "execution_count": 39,
     "metadata": {},
     "output_type": "execute_result"
    }
   ],
   "source": [
    "rf_model"
   ]
  },
  {
   "cell_type": "code",
   "execution_count": 44,
   "metadata": {},
   "outputs": [
    {
     "data": {
      "text/plain": [
       "[(0.2541508643770216, 'first fasting glucose (mg/dl)'),\n",
       " (0.22744195562344355, 'pregnancies (number)'),\n",
       " (0.17139070738135395, 'bmi pregestational (kg/m)'),\n",
       " (0.12878442191531328, 'age (years)'),\n",
       " (0.12302052340147678, 'current gestational age'),\n",
       " (0.09521152730139079, 'mean systolic bp (mmhg)')]"
      ]
     },
     "execution_count": 44,
     "metadata": {},
     "output_type": "execute_result"
    }
   ],
   "source": [
    "# Get numerical feature importances\n",
    "sorted(zip(rf_model.feature_importances_, X.columns), reverse=True)"
   ]
  },
  {
   "cell_type": "code",
   "execution_count": 47,
   "metadata": {},
   "outputs": [],
   "source": [
    "# # Import tools needed for visualization\n",
    "# from sklearn.tree import export_graphviz\n",
    "# import pydot\n",
    "# # Pull out one tree from the forest\n",
    "# tree = rf_model.estimators_[5]\n",
    "# # Export the image to a dot file\n",
    "# export_graphviz(tree, out_file = 'tree.dot', feature_names = X.columns, rounded = True, precision = 1)\n",
    "# # Use dot file to create a graph\n",
    "# (graph, ) = pydot.graph_from_dot_file('tree.dot')\n",
    "# # Write graph to a png file\n",
    "# graph.write_png('tree.png')"
   ]
  },
  {
   "cell_type": "code",
   "execution_count": 29,
   "metadata": {},
   "outputs": [
    {
     "data": {
      "text/plain": [
       "32512"
      ]
     },
     "execution_count": 29,
     "metadata": {},
     "output_type": "execute_result"
    }
   ],
   "source": [
    "# import os\n",
    "# export_graphviz(tree,\n",
    "#                 feature_names=X.columns,\n",
    "#                 filled=True,\n",
    "#                 rounded=True)\n",
    "# os.system('dot -Tpng tree.dot -o tree.png')"
   ]
  },
  {
   "cell_type": "code",
   "execution_count": 48,
   "metadata": {},
   "outputs": [],
   "source": [
    "# import matplotlib.pyplot as plt\n",
    "# import cv2\n",
    "# %matplotlib inline\n",
    "# img = cv2.imread('tree.png')\n",
    "# plt.figure(figsize = (20, 20))\n",
    "# plt.imshow(img)"
   ]
  },
  {
   "cell_type": "code",
   "execution_count": 51,
   "metadata": {},
   "outputs": [
    {
     "name": "stdout",
     "output_type": "stream",
     "text": [
      "{'n_estimators': [200, 400, 600, 800, 1000, 1200, 1400, 1600, 1800, 2000], 'max_features': ['auto', 'sqrt'], 'max_depth': [10, 20, 30, 40, 50, 60, 70, 80, 90, 100, 110, None], 'min_samples_split': [2, 5, 10], 'min_samples_leaf': [1, 2, 4], 'bootstrap': [True, False]}\n"
     ]
    }
   ],
   "source": [
    "#Hyperparameter tuning:(Altogether, there are 2 * 12 * 2 * 3 * 3 * 10 = 4320 settings!)\n",
    "\n",
    "from sklearn.model_selection import RandomizedSearchCV\n",
    "# Number of trees in random forest\n",
    "n_estimators = [int(x) for x in np.linspace(start = 200, stop = 2000, num = 10)]\n",
    "# Number of features to consider at every split\n",
    "max_features = ['auto', 'sqrt']\n",
    "# Maximum number of levels in tree\n",
    "max_depth = [int(x) for x in np.linspace(10, 110, num = 11)]\n",
    "max_depth.append(None)\n",
    "# Minimum number of samples required to split a node\n",
    "min_samples_split = [2, 5, 10]\n",
    "# Minimum number of samples required at each leaf node\n",
    "min_samples_leaf = [1, 2, 4]\n",
    "# Method of selecting samples for training each tree\n",
    "bootstrap = [True, False]\n",
    "# Create the random grid\n",
    "random_grid = {'n_estimators': n_estimators,\n",
    "               'max_features': max_features,\n",
    "               'max_depth': max_depth,\n",
    "               'min_samples_split': min_samples_split,\n",
    "               'min_samples_leaf': min_samples_leaf,\n",
    "               'bootstrap': bootstrap}\n",
    "print(random_grid)"
   ]
  },
  {
   "cell_type": "code",
   "execution_count": 55,
   "metadata": {},
   "outputs": [
    {
     "name": "stdout",
     "output_type": "stream",
     "text": [
      "Fitting 3 folds for each of 100 candidates, totalling 300 fits\n"
     ]
    },
    {
     "name": "stderr",
     "output_type": "stream",
     "text": [
      "[Parallel(n_jobs=-1)]: Using backend LokyBackend with 4 concurrent workers.\n",
      "[Parallel(n_jobs=-1)]: Done  33 tasks      | elapsed:   24.7s\n",
      "[Parallel(n_jobs=-1)]: Done 154 tasks      | elapsed:  1.7min\n",
      "[Parallel(n_jobs=-1)]: Done 300 out of 300 | elapsed:  3.2min finished\n"
     ]
    },
    {
     "data": {
      "text/plain": [
       "{'n_estimators': 200,\n",
       " 'min_samples_split': 5,\n",
       " 'min_samples_leaf': 1,\n",
       " 'max_features': 'auto',\n",
       " 'max_depth': None,\n",
       " 'bootstrap': False}"
      ]
     },
     "execution_count": 55,
     "metadata": {},
     "output_type": "execute_result"
    }
   ],
   "source": [
    "# Use the random grid to search for best hyperparameters\n",
    "# First create the base model to tune\n",
    "rf = RandomForestClassifier()\n",
    "# Random search of parameters, using 3 fold cross validation, \n",
    "# search across 100 different combinations, and use all available cores\n",
    "rf_random = RandomizedSearchCV(estimator = rf, param_distributions = random_grid, n_iter = 100, cv = 3, verbose=2, random_state=seed, n_jobs = -1)\n",
    "# Fit the random search model\n",
    "rf_random.fit(X_train, y_train)\n",
    "rf_random.best_params_"
   ]
  },
  {
   "cell_type": "code",
   "execution_count": 56,
   "metadata": {},
   "outputs": [
    {
     "ename": "TypeError",
     "evalue": "__init__() got an unexpected keyword argument 'param_distributions'",
     "output_type": "error",
     "traceback": [
      "\u001b[0;31m---------------------------------------------------------------------------\u001b[0m",
      "\u001b[0;31mTypeError\u001b[0m                                 Traceback (most recent call last)",
      "\u001b[0;32m<ipython-input-56-5efd65bf239e>\u001b[0m in \u001b[0;36m<module>\u001b[0;34m\u001b[0m\n\u001b[1;32m      1\u001b[0m \u001b[0mparam\u001b[0m\u001b[0;34m=\u001b[0m\u001b[0mrf_random\u001b[0m\u001b[0;34m.\u001b[0m\u001b[0mbest_params_\u001b[0m\u001b[0;34m\u001b[0m\u001b[0;34m\u001b[0m\u001b[0m\n\u001b[0;32m----> 2\u001b[0;31m \u001b[0mrf_model\u001b[0m\u001b[0;34m=\u001b[0m\u001b[0mRandomForestClassifier\u001b[0m\u001b[0;34m(\u001b[0m\u001b[0mrandom_state\u001b[0m\u001b[0;34m=\u001b[0m\u001b[0mseed\u001b[0m\u001b[0;34m,\u001b[0m \u001b[0mparam_distributions\u001b[0m\u001b[0;34m=\u001b[0m\u001b[0mparam\u001b[0m\u001b[0;34m)\u001b[0m\u001b[0;34m.\u001b[0m\u001b[0mfit\u001b[0m\u001b[0;34m(\u001b[0m\u001b[0mX_train\u001b[0m\u001b[0;34m,\u001b[0m \u001b[0my_train\u001b[0m\u001b[0;34m)\u001b[0m\u001b[0;34m\u001b[0m\u001b[0;34m\u001b[0m\u001b[0m\n\u001b[0m\u001b[1;32m      3\u001b[0m \u001b[0mrf_pred\u001b[0m\u001b[0;34m=\u001b[0m\u001b[0mrf_model\u001b[0m\u001b[0;34m.\u001b[0m\u001b[0mpredict\u001b[0m\u001b[0;34m(\u001b[0m\u001b[0mX_test\u001b[0m\u001b[0;34m)\u001b[0m\u001b[0;34m\u001b[0m\u001b[0;34m\u001b[0m\u001b[0m\n\u001b[1;32m      4\u001b[0m \u001b[0mscore\u001b[0m\u001b[0;34m=\u001b[0m\u001b[0maccuracy_score\u001b[0m\u001b[0;34m(\u001b[0m\u001b[0my_test\u001b[0m\u001b[0;34m,\u001b[0m \u001b[0my_pred\u001b[0m\u001b[0;34m)\u001b[0m\u001b[0;34m\u001b[0m\u001b[0;34m\u001b[0m\u001b[0m\n\u001b[1;32m      5\u001b[0m \u001b[0mconf_matrix\u001b[0m\u001b[0;34m(\u001b[0m\u001b[0my_test\u001b[0m\u001b[0;34m,\u001b[0m\u001b[0mrf_pred\u001b[0m\u001b[0;34m)\u001b[0m\u001b[0;34m\u001b[0m\u001b[0;34m\u001b[0m\u001b[0m\n",
      "\u001b[0;31mTypeError\u001b[0m: __init__() got an unexpected keyword argument 'param_distributions'"
     ]
    }
   ],
   "source": [
    "def evaluate(model, test_features, test_labels):\n",
    "    predictions = model.predict(test_features)\n",
    "    errors = abs(predictions - test_labels)\n",
    "    mape = 100 * np.mean(errors / test_labels)\n",
    "    accuracy = 100 - mape\n",
    "    print('Model Performance')\n",
    "    print('Average Error: {:0.4f} degrees.'.format(np.mean(errors)))\n",
    "    print('Accuracy = {:0.2f}%.'.format(accuracy))\n",
    "    \n",
    "    return accuracy\n",
    "base_model = RandomForestRegressor(n_estimators = 10, random_state = 42)\n",
    "base_model.fit(train_features, train_labels)\n",
    "base_accuracy = evaluate(base_model, test_features, test_labels)\n",
    "Model Performance\n",
    "Average Error: 3.9199 degrees.\n",
    "Accuracy = 93.36%.\n",
    "best_random = rf_random.best_estimator_\n",
    "random_accuracy = evaluate(best_random, test_features, test_labels)\n",
    "Model Performance\n",
    "Average Error: 3.7152 degrees.\n",
    "Accuracy = 93.73%.\n",
    "print('Improvement of {:0.2f}%.'.format( 100 * (random_accuracy - base_accuracy) / base_accuracy))\n",
    "Improvement of 0.40%."
   ]
  },
  {
   "cell_type": "code",
   "execution_count": 59,
   "metadata": {},
   "outputs": [
    {
     "data": {
      "image/png": "[encoded data removed]",
      "text/plain": [
       "<Figure size 360x360 with 2 Axes>"
      ]
     },
     "metadata": {
      "needs_background": "light"
     },
     "output_type": "display_data"
    },
    {
     "data": {
      "text/html": [
       "<div>\n",
       "<style scoped>\n",
       "    .dataframe tbody tr th:only-of-type {\n",
       "        vertical-align: middle;\n",
       "    }\n",
       "\n",
       "    .dataframe tbody tr th {\n",
       "        vertical-align: top;\n",
       "    }\n",
       "\n",
       "    .dataframe thead th {\n",
       "        text-align: right;\n",
       "    }\n",
       "</style>\n",
       "<table border=\"1\" class=\"dataframe\">\n",
       "  <thead>\n",
       "    <tr style=\"text-align: right;\">\n",
       "      <th></th>\n",
       "      <th>Precision</th>\n",
       "      <th>Recall</th>\n",
       "      <th>F1 Score</th>\n",
       "    </tr>\n",
       "  </thead>\n",
       "  <tbody>\n",
       "    <tr>\n",
       "      <th>Results</th>\n",
       "      <td>0.92</td>\n",
       "      <td>1.0</td>\n",
       "      <td>0.958333</td>\n",
       "    </tr>\n",
       "  </tbody>\n",
       "</table>\n",
       "</div>"
      ],
      "text/plain": [
       "         Precision  Recall  F1 Score\n",
       "Results       0.92     1.0  0.958333"
      ]
     },
     "execution_count": 59,
     "metadata": {},
     "output_type": "execute_result"
    }
   ],
   "source": [
    "best_tree = rf_random.best_estimator_.fit(X_train, y_train)\n",
    "# best_tree.fit(X_train, y_train)\n",
    "best_pred=best_tree.predict(X_test)\n",
    "best_score=accuracy_score(y_test, best_pred)\n",
    "conf_matrix(y_test,best_pred)"
   ]
  },
  {
   "cell_type": "code",
   "execution_count": 61,
   "metadata": {},
   "outputs": [
    {
     "name": "stdout",
     "output_type": "stream",
     "text": [
      "Improvement of 2.33%.\n"
     ]
    }
   ],
   "source": [
    "print('Improvement of {:0.2f}%.'.format( 100 * (best_score - score) / score))"
   ]
  },
  {
   "cell_type": "markdown",
   "metadata": {},
   "source": [
    "Reference: https://towardsdatascience.com/hyperparameter-tuning-the-random-forest-in-python-using-scikit-learn-28d2aa77dd74"
   ]
  },
  {
   "cell_type": "code",
   "execution_count": null,
   "metadata": {},
   "outputs": [],
   "source": []
  }
 ],
 "metadata": {
  "kernelspec": {
   "display_name": "insight",
   "language": "python",
   "name": "insight"
  },
  "language_info": {
   "codemirror_mode": {
    "name": "ipython",
    "version": 3
   },
   "file_extension": ".py",
   "mimetype": "text/x-python",
   "name": "python",
   "nbconvert_exporter": "python",
   "pygments_lexer": "ipython3",
   "version": "3.8.3"
  }
 },
 "nbformat": 4,
 "nbformat_minor": 4
}
